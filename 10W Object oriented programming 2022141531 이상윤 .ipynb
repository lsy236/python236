{
 "cells": [
  {
   "cell_type": "code",
   "execution_count": 1,
   "id": "f486c7b6-1c69-4bc8-90b9-e44450c0613b",
   "metadata": {},
   "outputs": [],
   "source": [
    "result1 = 0\n",
    "result2 = 0"
   ]
  },
  {
   "cell_type": "code",
   "execution_count": 2,
   "id": "51284805-9091-4642-8cac-2f3651f35263",
   "metadata": {},
   "outputs": [],
   "source": [
    "def adder1(num):\n",
    "    global result1\n",
    "    result1 = result1 + num\n",
    "    return result1"
   ]
  },
  {
   "cell_type": "code",
   "execution_count": 3,
   "id": "32f0ea6e-e2ac-418f-ba1f-96cc935203c2",
   "metadata": {},
   "outputs": [],
   "source": [
    "def adder2(num):\n",
    "    global result2\n",
    "    result2 = result2 + num\n",
    "    return result2"
   ]
  },
  {
   "cell_type": "code",
   "execution_count": 4,
   "id": "3169ecf6-443a-429d-8584-d5bf085912de",
   "metadata": {},
   "outputs": [
    {
     "data": {
      "text/plain": [
       "3"
      ]
     },
     "execution_count": 4,
     "metadata": {},
     "output_type": "execute_result"
    }
   ],
   "source": [
    "adder1(3)"
   ]
  },
  {
   "cell_type": "code",
   "execution_count": 5,
   "id": "c57fe348-a1e6-4232-b5d1-c8738105435c",
   "metadata": {},
   "outputs": [
    {
     "data": {
      "text/plain": [
       "3"
      ]
     },
     "execution_count": 5,
     "metadata": {},
     "output_type": "execute_result"
    }
   ],
   "source": [
    "adder2(3)"
   ]
  },
  {
   "cell_type": "code",
   "execution_count": 6,
   "id": "d772a714-6215-474e-93b9-7497de11100d",
   "metadata": {},
   "outputs": [
    {
     "data": {
      "text/plain": [
       "6"
      ]
     },
     "execution_count": 6,
     "metadata": {},
     "output_type": "execute_result"
    }
   ],
   "source": [
    "adder1(3)"
   ]
  },
  {
   "cell_type": "code",
   "execution_count": 7,
   "id": "2a85b208-1433-4432-bffe-084f8dce19b6",
   "metadata": {},
   "outputs": [
    {
     "data": {
      "text/plain": [
       "6"
      ]
     },
     "execution_count": 7,
     "metadata": {},
     "output_type": "execute_result"
    }
   ],
   "source": [
    "adder2(3)"
   ]
  },
  {
   "cell_type": "code",
   "execution_count": 1,
   "id": "6af0c6ef-e831-4341-a99c-f06752bf8f5c",
   "metadata": {},
   "outputs": [],
   "source": [
    "class calculator:\n",
    "    def __init__(self):\n",
    "        self.result = 0\n",
    "\n",
    "    def adder(self, num):\n",
    "        self.result += num\n",
    "        return self.result"
   ]
  },
  {
   "cell_type": "code",
   "execution_count": 2,
   "id": "768a8001-e539-49b0-869d-a9f9f389a703",
   "metadata": {},
   "outputs": [],
   "source": [
    "cal1 = calculator()"
   ]
  },
  {
   "cell_type": "code",
   "execution_count": 3,
   "id": "20698194-db19-4a78-b262-32005d6ef103",
   "metadata": {},
   "outputs": [
    {
     "data": {
      "text/plain": [
       "3"
      ]
     },
     "execution_count": 3,
     "metadata": {},
     "output_type": "execute_result"
    }
   ],
   "source": [
    "cal1.adder(3)"
   ]
  },
  {
   "cell_type": "code",
   "execution_count": 6,
   "id": "3f36e8f9-4abb-4a2e-b408-c8936e535d78",
   "metadata": {},
   "outputs": [
    {
     "name": "stdout",
     "output_type": "stream",
     "text": [
      "<__main__.calculator object at 0x0000016CF2DCF950>\n"
     ]
    }
   ],
   "source": [
    "print(cal1)"
   ]
  },
  {
   "cell_type": "code",
   "execution_count": 19,
   "id": "52397da9-5336-44a3-a91b-de13daccc582",
   "metadata": {},
   "outputs": [],
   "source": [
    "class service:\n",
    "    secret = \"삼성전자 10만 간다\"\n",
    "    def sum(self, a, b):\n",
    "        result = a+b\n",
    "        print(\"%s + %s = %s이다.\" % (a, b, result))"
   ]
  },
  {
   "cell_type": "code",
   "execution_count": 20,
   "id": "e8d40b4b-20dd-48b0-ac9a-b7903271e90e",
   "metadata": {},
   "outputs": [],
   "source": [
    "an = service()"
   ]
  },
  {
   "cell_type": "code",
   "execution_count": 21,
   "id": "4ed71fa9-4172-4074-8377-af783b6100ed",
   "metadata": {},
   "outputs": [
    {
     "name": "stdout",
     "output_type": "stream",
     "text": [
      "1 + 1 = 2이다.\n"
     ]
    }
   ],
   "source": [
    "an.sum(1,1)"
   ]
  },
  {
   "cell_type": "code",
   "execution_count": 15,
   "id": "4ae1ac11-7ee6-45bb-adbc-4209d0971669",
   "metadata": {},
   "outputs": [],
   "source": [
    "class service:\n",
    "    secret = \"삼성전자 10만 간다\"\n",
    "    def setname(self, name):\n",
    "        self.name = name\n",
    "    def sum(self, a, b):\n",
    "        result = a+b\n",
    "        print(\"%s님 %s + %s = %s입니다.\" % (self.name, a, b, result))"
   ]
  },
  {
   "cell_type": "code",
   "execution_count": 16,
   "id": "b2ac3ac9-8f8f-4960-afd6-42dc908af918",
   "metadata": {},
   "outputs": [],
   "source": [
    "an = service()"
   ]
  },
  {
   "cell_type": "code",
   "execution_count": 17,
   "id": "68942739-8be1-4521-baf1-096d6f941d16",
   "metadata": {},
   "outputs": [],
   "source": [
    "an.setname(\"박달도사\")"
   ]
  },
  {
   "cell_type": "code",
   "execution_count": 18,
   "id": "4b4ad8a1-b6ad-42d2-a542-7b6d62b1c207",
   "metadata": {},
   "outputs": [
    {
     "name": "stdout",
     "output_type": "stream",
     "text": [
      "박달도사님 1 + 1 = 2입니다.\n"
     ]
    }
   ],
   "source": [
    "an.sum(1,1)"
   ]
  },
  {
   "cell_type": "code",
   "execution_count": 19,
   "id": "6e8a8e36-dadf-4e75-a447-5daa97c9f84f",
   "metadata": {},
   "outputs": [],
   "source": [
    "lee = service()"
   ]
  },
  {
   "cell_type": "code",
   "execution_count": 20,
   "id": "7802be4a-5fb4-4272-abf8-8b12db641494",
   "metadata": {},
   "outputs": [
    {
     "ename": "AttributeError",
     "evalue": "'service' object has no attribute 'name'",
     "output_type": "error",
     "traceback": [
      "\u001b[1;31m--------------------------------------------------------------------\u001b[0m",
      "\u001b[1;31mAttributeError\u001b[0m                     Traceback (most recent call last)",
      "Cell \u001b[1;32mIn[20], line 1\u001b[0m\n\u001b[1;32m----> 1\u001b[0m \u001b[43mlee\u001b[49m\u001b[38;5;241;43m.\u001b[39;49m\u001b[43msum\u001b[49m\u001b[43m(\u001b[49m\u001b[38;5;241;43m1\u001b[39;49m\u001b[43m,\u001b[49m\u001b[38;5;241;43m1\u001b[39;49m\u001b[43m)\u001b[49m\n",
      "Cell \u001b[1;32mIn[15], line 7\u001b[0m, in \u001b[0;36mservice.sum\u001b[1;34m(self, a, b)\u001b[0m\n\u001b[0;32m      5\u001b[0m \u001b[38;5;28;01mdef\u001b[39;00m \u001b[38;5;21msum\u001b[39m(\u001b[38;5;28mself\u001b[39m, a, b):\n\u001b[0;32m      6\u001b[0m     result \u001b[38;5;241m=\u001b[39m a\u001b[38;5;241m+\u001b[39mb\n\u001b[1;32m----> 7\u001b[0m     \u001b[38;5;28mprint\u001b[39m(\u001b[38;5;124m\"\u001b[39m\u001b[38;5;132;01m%s\u001b[39;00m\u001b[38;5;124m님 \u001b[39m\u001b[38;5;132;01m%s\u001b[39;00m\u001b[38;5;124m + \u001b[39m\u001b[38;5;132;01m%s\u001b[39;00m\u001b[38;5;124m = \u001b[39m\u001b[38;5;132;01m%s\u001b[39;00m\u001b[38;5;124m입니다.\u001b[39m\u001b[38;5;124m\"\u001b[39m \u001b[38;5;241m%\u001b[39m (\u001b[38;5;28;43mself\u001b[39;49m\u001b[38;5;241;43m.\u001b[39;49m\u001b[43mname\u001b[49m, a, b, result))\n",
      "\u001b[1;31mAttributeError\u001b[0m: 'service' object has no attribute 'name'"
     ]
    }
   ],
   "source": [
    "lee.sum(1,1)"
   ]
  },
  {
   "cell_type": "code",
   "execution_count": 1,
   "id": "21c97adf-ad96-40d7-9b4e-7473f9fb9b88",
   "metadata": {},
   "outputs": [],
   "source": [
    "class service:\n",
    "    secret = \"삼성전자 10만 간다\"\n",
    "    def __init__(self, name):\n",
    "        self.name = name\n",
    "    def sum(self, a, b):\n",
    "        result = a+b\n",
    "        print(\"%s님 %s + %s = %s입니다.\" % (self.name, a, b, result))"
   ]
  },
  {
   "cell_type": "code",
   "execution_count": 3,
   "id": "3ee54717-bbfe-4285-96a1-237c6ffa08d0",
   "metadata": {},
   "outputs": [],
   "source": [
    "an = service(\"바람의나라\")"
   ]
  },
  {
   "cell_type": "code",
   "execution_count": 4,
   "id": "3004f0fd-bd17-4d1a-a871-471d1c5cbfb4",
   "metadata": {},
   "outputs": [
    {
     "name": "stdout",
     "output_type": "stream",
     "text": [
      "바람의나라님 1 + 1 = 2입니다.\n"
     ]
    }
   ],
   "source": [
    "an.sum(1,1)"
   ]
  },
  {
   "cell_type": "code",
   "execution_count": 25,
   "id": "96dd8bd4-d0db-41bb-924b-0ce443af0701",
   "metadata": {},
   "outputs": [],
   "source": [
    "class fourcal:\n",
    "    def setdata(self, first, second):\n",
    "        self.first = first\n",
    "        self.second = second\n",
    "    def sum(self):\n",
    "        result =  self.first + self.second\n",
    "        return result\n",
    "    def mul(self):\n",
    "        result =  self.first * self.second\n",
    "        return result\n",
    "    def sub(self):\n",
    "        result =  self.first - self.second\n",
    "        return result\n",
    "    def div(self):\n",
    "        result =  self.first / self.second\n",
    "        return result"
   ]
  },
  {
   "cell_type": "code",
   "execution_count": 28,
   "id": "49933ee1-2b76-4d05-8988-bf099d15fbe5",
   "metadata": {},
   "outputs": [],
   "source": [
    "a = fourcal()"
   ]
  },
  {
   "cell_type": "code",
   "execution_count": 29,
   "id": "49286aa6-9c21-4470-b7e6-55b857a0ddfc",
   "metadata": {},
   "outputs": [],
   "source": [
    "a.setdata(4,2)"
   ]
  },
  {
   "cell_type": "code",
   "execution_count": 30,
   "id": "9c73c7bd-0603-437f-95f7-80296f2bc184",
   "metadata": {},
   "outputs": [
    {
     "name": "stdout",
     "output_type": "stream",
     "text": [
      "4\n"
     ]
    }
   ],
   "source": [
    "print(a.first)"
   ]
  },
  {
   "cell_type": "code",
   "execution_count": 31,
   "id": "aeeade3a-5524-4611-b762-258fd8ca7649",
   "metadata": {},
   "outputs": [
    {
     "name": "stdout",
     "output_type": "stream",
     "text": [
      "2\n"
     ]
    }
   ],
   "source": [
    "print(a.second)"
   ]
  },
  {
   "cell_type": "code",
   "execution_count": 32,
   "id": "358afa88-5f70-4156-967e-3ddbf47b6b61",
   "metadata": {},
   "outputs": [
    {
     "name": "stdout",
     "output_type": "stream",
     "text": [
      "6\n"
     ]
    }
   ],
   "source": [
    "print(a.sum())"
   ]
  },
  {
   "cell_type": "code",
   "execution_count": 33,
   "id": "0aa70533-6fcc-4c47-b6fc-18b3b2f01ecf",
   "metadata": {},
   "outputs": [
    {
     "data": {
      "text/plain": [
       "2.0"
      ]
     },
     "execution_count": 33,
     "metadata": {},
     "output_type": "execute_result"
    }
   ],
   "source": [
    "a.div()"
   ]
  },
  {
   "cell_type": "code",
   "execution_count": 34,
   "id": "7f72621b-d4d8-48b1-81d6-fe0138f18436",
   "metadata": {},
   "outputs": [],
   "source": [
    "import random"
   ]
  },
  {
   "cell_type": "code",
   "execution_count": 35,
   "id": "50338d8b-0909-4950-97e7-62d3f2182e13",
   "metadata": {},
   "outputs": [],
   "source": [
    "player1_dice = []\n",
    "player2_dice = []"
   ]
  },
  {
   "cell_type": "code",
   "execution_count": 36,
   "id": "8f35dff6-0676-42ee-9f9e-c580f84ae286",
   "metadata": {},
   "outputs": [],
   "source": [
    "for i in range(3):\n",
    "    player1_dice.append(random.randint(1, 6)) \n",
    "    player2_dice.append(random.randint(1, 6))"
   ]
  },
  {
   "cell_type": "code",
   "execution_count": 40,
   "id": "49ef66b4-2fa2-411e-ae42-2ab9f3d5938f",
   "metadata": {},
   "outputs": [
    {
     "name": "stdout",
     "output_type": "stream",
     "text": [
      "Player 1 rolled[4, 5, 5]\n"
     ]
    }
   ],
   "source": [
    "print(\"Player 1 rolled\" + str(player1_dice))"
   ]
  },
  {
   "cell_type": "code",
   "execution_count": 41,
   "id": "4239e4c0-9e83-4c2e-9d58-0d1d0f75c9cc",
   "metadata": {},
   "outputs": [
    {
     "name": "stdout",
     "output_type": "stream",
     "text": [
      "Player 2 rolled[4, 6, 2]\n"
     ]
    }
   ],
   "source": [
    "print(\"Player 2 rolled\" + str(player2_dice))"
   ]
  },
  {
   "cell_type": "code",
   "execution_count": 42,
   "id": "1948c0f6-5906-45b4-92b8-f1e861b05dec",
   "metadata": {},
   "outputs": [
    {
     "name": "stdout",
     "output_type": "stream",
     "text": [
      "Player 1 wins\n"
     ]
    }
   ],
   "source": [
    "if sum(player1_dice) == sum(player2_dice):\n",
    "    print (\"Draw\")\n",
    "elif sum(player1_dice) > sum(player2_dice):\n",
    "    print (\"Player 1 wins\")\n",
    "else:\n",
    "    print (\"Player 2 wins\")"
   ]
  },
  {
   "cell_type": "code",
   "execution_count": 1,
   "id": "d29f3b5f-5a32-4e88-8ed7-8fc332295567",
   "metadata": {},
   "outputs": [],
   "source": [
    "from random import randint"
   ]
  },
  {
   "cell_type": "code",
   "execution_count": 5,
   "id": "1dd15b47-0a27-4237-b6f1-4d3b39ed1317",
   "metadata": {},
   "outputs": [],
   "source": [
    "class Player:\n",
    "    def __init__(self):\n",
    "        self. dice = []\n",
    "    def roll(self):\n",
    "        self.dice = []\n",
    "        for i in range(3):\n",
    "            self.dice.append(randint (1, 6))\n",
    "    def get_dice(self) :\n",
    "        return self.dice"
   ]
  },
  {
   "cell_type": "code",
   "execution_count": 6,
   "id": "0cb1c084-a251-42ee-84f4-bfd7e1510597",
   "metadata": {},
   "outputs": [],
   "source": [
    "player1 = Player()\n",
    "player2 = Player()"
   ]
  },
  {
   "cell_type": "code",
   "execution_count": 7,
   "id": "3dca4e61-5c11-4bd0-b761-73beafa15001",
   "metadata": {},
   "outputs": [],
   "source": [
    "player1. roll()\n",
    "player2. roll()"
   ]
  },
  {
   "cell_type": "code",
   "execution_count": 10,
   "id": "386ec9d7-42d1-4554-adc1-8aa66c85a55b",
   "metadata": {},
   "outputs": [
    {
     "name": "stdout",
     "output_type": "stream",
     "text": [
      "Player 1 rolled[4, 4, 5]\n",
      "Player 2 rolled[5, 5, 2]\n",
      "Player 1 wins!\n"
     ]
    }
   ],
   "source": [
    "print (\"Player 1 rolled\" + str(player1.get_dice())) \n",
    "print (\"Player 2 rolled\" + str(player2.get_dice()))\n",
    "if sum(player1.get_dice()) == sum(player2.get_dice()):\n",
    "    print (\"Draw!\")\n",
    "elif sum(player1. get_dice()) > sum(player2.get_dice()):\n",
    "    print (\"Player 1 wins!\")\n",
    "else:\n",
    "    print (\"Player 2 wins!\")"
   ]
  }
 ],
 "metadata": {
  "kernelspec": {
   "display_name": "Python 3 (ipykernel)",
   "language": "python",
   "name": "python3"
  },
  "language_info": {
   "codemirror_mode": {
    "name": "ipython",
    "version": 3
   },
   "file_extension": ".py",
   "mimetype": "text/x-python",
   "name": "python",
   "nbconvert_exporter": "python",
   "pygments_lexer": "ipython3",
   "version": "3.12.0"
  }
 },
 "nbformat": 4,
 "nbformat_minor": 5
}
