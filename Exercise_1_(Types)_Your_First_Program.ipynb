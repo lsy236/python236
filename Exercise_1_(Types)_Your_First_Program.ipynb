{
  "nbformat": 4,
  "nbformat_minor": 0,
  "metadata": {
    "colab": {
      "provenance": [],
      "authorship_tag": "ABX9TyNuyaA/PKnGncFw1jl2VfF3",
      "include_colab_link": true
    },
    "kernelspec": {
      "name": "python3",
      "display_name": "Python 3"
    },
    "language_info": {
      "name": "python"
    }
  },
  "cells": [
    {
      "cell_type": "markdown",
      "metadata": {
        "id": "view-in-github",
        "colab_type": "text"
      },
      "source": [
        "<a href=\"https://colab.research.google.com/github/lsy236/python236/blob/main/Exercise_1_(Types)_Your_First_Program.ipynb\" target=\"_parent\"><img src=\"https://colab.research.google.com/assets/colab-badge.svg\" alt=\"Open In Colab\"/></a>"
      ]
    },
    {
      "cell_type": "markdown",
      "source": [
        "2022141531 이상윤"
      ],
      "metadata": {
        "id": "f9BHziClpibF"
      }
    },
    {
      "cell_type": "code",
      "execution_count": 4,
      "metadata": {
        "id": "P92FL1qzi-cD",
        "outputId": "ae79e936-1332-46d6-9159-9da8c2f1fde9",
        "colab": {
          "base_uri": "https://localhost:8080/"
        }
      },
      "outputs": [
        {
          "output_type": "stream",
          "name": "stdout",
          "text": [
            "hello, world!\n"
          ]
        }
      ],
      "source": [
        "print(\"hello, world!\")"
      ]
    },
    {
      "cell_type": "code",
      "source": [
        "print('hello, world!')#print the traditional hello world"
      ],
      "metadata": {
        "id": "_uVI9i14jCSB",
        "colab": {
          "base_uri": "https://localhost:8080/"
        },
        "outputId": "bde5578b-b10d-43b0-c4be-38e6047de71a"
      },
      "execution_count": null,
      "outputs": [
        {
          "output_type": "stream",
          "name": "stdout",
          "text": [
            "hello, world!\n"
          ]
        }
      ]
    }
  ]
}