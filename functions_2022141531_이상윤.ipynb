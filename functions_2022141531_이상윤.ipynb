{
  "nbformat": 4,
  "nbformat_minor": 0,
  "metadata": {
    "colab": {
      "provenance": [],
      "authorship_tag": "ABX9TyPHmoTkThiVouI6Enq9N6bM",
      "include_colab_link": true
    },
    "kernelspec": {
      "name": "python3",
      "display_name": "Python 3"
    },
    "language_info": {
      "name": "python"
    }
  },
  "cells": [
    {
      "cell_type": "markdown",
      "metadata": {
        "id": "view-in-github",
        "colab_type": "text"
      },
      "source": [
        "<a href=\"https://colab.research.google.com/github/lsy236/python236/blob/main/functions_2022141531_%EC%9D%B4%EC%83%81%EC%9C%A4.ipynb\" target=\"_parent\"><img src=\"https://colab.research.google.com/assets/colab-badge.svg\" alt=\"Open In Colab\"/></a>"
      ]
    },
    {
      "cell_type": "code",
      "execution_count": 16,
      "metadata": {
        "colab": {
          "base_uri": "https://localhost:8080/"
        },
        "id": "sFDe6GrLfIJz",
        "outputId": "94da2c21-db92-4ae9-b290-7e96f2b0a1a6"
      },
      "outputs": [
        {
          "output_type": "stream",
          "name": "stdout",
          "text": [
            "2.0\n"
          ]
        }
      ],
      "source": [
        "def div(a=4, b=2):\n",
        "    return(a/b)\n",
        "print(div())"
      ]
    },
    {
      "cell_type": "code",
      "source": [
        "def con(a=4, b=2):\n",
        "    return(a + b)\n",
        "print(con())"
      ],
      "metadata": {
        "colab": {
          "base_uri": "https://localhost:8080/"
        },
        "id": "qW2tArNMhj_C",
        "outputId": "3dc81dcd-842d-4eb1-c2c1-e9404411bbc0"
      },
      "execution_count": 19,
      "outputs": [
        {
          "output_type": "stream",
          "name": "stdout",
          "text": [
            "6\n"
          ]
        }
      ]
    },
    {
      "cell_type": "code",
      "source": [
        "print(con('good ', 'gag'))"
      ],
      "metadata": {
        "colab": {
          "base_uri": "https://localhost:8080/"
        },
        "id": "ZxbeRA1fjqg9",
        "outputId": "ad13e5ec-a309-4064-aa2a-d4b4f8c7cc1d"
      },
      "execution_count": 25,
      "outputs": [
        {
          "output_type": "stream",
          "name": "stdout",
          "text": [
            "good gag\n"
          ]
        }
      ]
    },
    {
      "cell_type": "code",
      "source": [
        "print(con(2, 3))"
      ],
      "metadata": {
        "colab": {
          "base_uri": "https://localhost:8080/"
        },
        "id": "XQLgZa63ine6",
        "outputId": "565d2319-cfa0-4b97-a3b9-2e27998bce48"
      },
      "execution_count": 26,
      "outputs": [
        {
          "output_type": "stream",
          "name": "stdout",
          "text": [
            "5\n"
          ]
        }
      ]
    },
    {
      "cell_type": "code",
      "source": [
        "print(con(['a',3,5],['b',4,6]))"
      ],
      "metadata": {
        "colab": {
          "base_uri": "https://localhost:8080/"
        },
        "id": "8oQM8vyOi22x",
        "outputId": "537ecf31-0ea6-40c7-8145-8a91645a8f54"
      },
      "execution_count": 21,
      "outputs": [
        {
          "output_type": "stream",
          "name": "stdout",
          "text": [
            "['a', 3, 5, 'b', 4, 6]\n"
          ]
        }
      ]
    }
  ]
}