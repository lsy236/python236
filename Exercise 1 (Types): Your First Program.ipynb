{
  "nbformat": 4,
  "nbformat_minor": 0,
  "metadata": {
    "colab": {
      "provenance": [],
      "authorship_tag": "ABX9TyMqyyYVMzJER7fhgg/p6PN1",
      "include_colab_link": true
    },
    "kernelspec": {
      "name": "python3",
      "display_name": "Python 3"
    },
    "language_info": {
      "name": "python"
    }
  },
  "cells": [
    {
      "cell_type": "markdown",
      "metadata": {
        "id": "view-in-github",
        "colab_type": "text"
      },
      "source": [
        "<a href=\"https://colab.research.google.com/github/lsy236/python236/blob/main/Exercise%201%20(Types)%3A%20Your%20First%20Program.ipynb\" target=\"_parent\"><img src=\"https://colab.research.google.com/assets/colab-badge.svg\" alt=\"Open In Colab\"/></a>"
      ]
    },
    {
      "cell_type": "code",
      "execution_count": 2,
      "metadata": {
        "id": "P92FL1qzi-cD",
        "outputId": "4f1c472c-9026-41e6-ec18-dd0d1d87e5b2",
        "colab": {
          "base_uri": "https://localhost:8080/"
        }
      },
      "outputs": [
        {
          "output_type": "stream",
          "name": "stdout",
          "text": [
            "hello, world!\n"
          ]
        }
      ],
      "source": [
        "print('hello, world!')"
      ]
    },
    {
      "cell_type": "code",
      "source": [
        "print('hello, world!')#print the traditional hello world"
      ],
      "metadata": {
        "id": "_uVI9i14jCSB",
        "colab": {
          "base_uri": "https://localhost:8080/"
        },
        "outputId": "bde5578b-b10d-43b0-c4be-38e6047de71a"
      },
      "execution_count": 3,
      "outputs": [
        {
          "output_type": "stream",
          "name": "stdout",
          "text": [
            "hello, world!\n"
          ]
        }
      ]
    },
    {
      "cell_type": "code",
      "source": [
        "#이상윤 2022141531"
      ],
      "metadata": {
        "id": "RkH4UEIYkBBO"
      },
      "execution_count": 4,
      "outputs": []
    },
    {
      "cell_type": "code",
      "source": [],
      "metadata": {
        "id": "21p8GuErkiVg"
      },
      "execution_count": null,
      "outputs": []
    }
  ]
}