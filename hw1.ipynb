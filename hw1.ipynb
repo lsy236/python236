{
 "cells": [
  {
   "cell_type": "code",
   "execution_count": null,
   "id": "5c7ae7ef-4def-4f4a-9b79-976e1b914baa",
   "metadata": {},
   "outputs": [],
   "source": []
  }
 ],
 "metadata": {
  "kernelspec": {
   "display_name": "Python 3 (ipykernel)",
   "language": "python",
   "name": "python3"
  },
  "language_info": {
   "name": ""
  }
 },
 "nbformat": 4,
 "nbformat_minor": 5
}
